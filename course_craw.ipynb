{
 "cells": [
  {
   "cell_type": "code",
   "execution_count": 1,
   "metadata": {},
   "outputs": [],
   "source": [
    "from selenium.webdriver.common.by import By\n",
    "from selenium.webdriver import ChromeOptions, Chrome\n",
    "from selenium.webdriver.chrome.service import Service\n",
    "import pandas as pd\n",
    "import re\n",
    "from time import sleep\n",
    "import random"
   ]
  },
  {
   "cell_type": "code",
   "execution_count": 3,
   "metadata": {},
   "outputs": [],
   "source": [
    "from selenium.webdriver.common.action_chains import ActionChains\n",
    "import numpy as np"
   ]
  },
  {
   "cell_type": "code",
   "execution_count": 13,
   "metadata": {},
   "outputs": [],
   "source": [
    "# Options\n",
    "\n",
    "service = Service(executable_path='chromedriver.exe')\n",
    "options = ChromeOptions()\n",
    "options.add_experimental_option(\"detach\", True)\n",
    "options.add_argument(\"--disable-extensions\")\n",
    "# options.add_argument(\"--headless\")\n",
    "options.add_argument(\"--incognito\")\n",
    "options.add_argument(\"--window-size=1920x1080\")\n",
    "\n",
    "try:\n",
    "    browser = Chrome(service=service, options=options)\n",
    "except Exception as e:\n",
    "    print(f\"An error occurred: {e}\")\n"
   ]
  },
  {
   "cell_type": "code",
   "execution_count": 14,
   "metadata": {},
   "outputs": [],
   "source": [
    "job_title = \"data\"\n",
    "job_location = \"hue\"\n",
    "browser.get(\"https://www.indeed.com/jobs?q={}&l={}\".format(job_title, job_location))\n",
    "# assert \"Coursera\" in browser.title    "
   ]
  },
  {
   "cell_type": "code",
   "execution_count": 81,
   "metadata": {},
   "outputs": [],
   "source": [
    "card = browser.find_elements(By.CLASS_NAME, 'job_seen_beacon')\n",
    "date = browser.find_elements(By.CLASS_NAME, 'date')\n"
   ]
  },
  {
   "cell_type": "code",
   "execution_count": 82,
   "metadata": {},
   "outputs": [
    {
     "name": "stdout",
     "output_type": "stream",
     "text": [
      "15\n"
     ]
    }
   ],
   "source": [
    "card[1].click()\n",
    "date[1].text\n",
    "print(len(card))"
   ]
  },
  {
   "cell_type": "code",
   "execution_count": 83,
   "metadata": {},
   "outputs": [
    {
     "data": {
      "text/plain": [
       "'Data Manager\\n- job post'"
      ]
     },
     "execution_count": 83,
     "metadata": {},
     "output_type": "execute_result"
    }
   ],
   "source": [
    "browser.find_element(By.CLASS_NAME, 'jobsearch-JobInfoHeader-title-container').text"
   ]
  },
  {
   "cell_type": "code",
   "execution_count": 84,
   "metadata": {},
   "outputs": [
    {
     "name": "stdout",
     "output_type": "stream",
     "text": [
      "Alaka`ina Foundation Family of Companies https://www.indeed.com/cmp/Alaka-Ina-Foundation-Family-of-Companies?campaignid=mobvjcmp&from=mobviewjob&tk=1heiua38ogbv7800&fromjk=62ab20d69e4c45d6\n"
     ]
    }
   ],
   "source": [
    "element = browser.find_element(By.CLASS_NAME, 'css-1cjkto6') \n",
    "link_element = element.find_element(By.TAG_NAME, 'a') \n",
    "company_link = link_element.get_attribute('href')  # Lấy đường dẫn (link) từ thẻ <a>\n",
    "print(element.text, company_link)\n"
   ]
  },
  {
   "cell_type": "code",
   "execution_count": 85,
   "metadata": {},
   "outputs": [
    {
     "name": "stdout",
     "output_type": "stream",
     "text": [
      "San Juan, PR\n"
     ]
    }
   ],
   "source": [
    "try:\n",
    "    loc = browser.find_element(By.CLASS_NAME, 'css-ks9svk').text\n",
    "except:\n",
    "    loc = browser.find_element(By.CLASS_NAME, 'css-9yl11a').text\n",
    "print (loc)"
   ]
  },
  {
   "cell_type": "code",
   "execution_count": 87,
   "metadata": {},
   "outputs": [],
   "source": [
    "try:\n",
    "    type = browser.find_element(By.CLASS_NAME, 'css-k5flys').text \n",
    "except:\n",
    "    type = None"
   ]
  },
  {
   "cell_type": "code",
   "execution_count": 88,
   "metadata": {},
   "outputs": [
    {
     "data": {
      "text/plain": [
       "\"The Alaka’ina Foundation Family of Companies (FOCs) has a need for a Data Manager to provide support to the CDC Division of Vector-Borne Diseases (DVBD) Dengue Branch in San Juan, Puerto Rico.\\nRESPONSIBILITES INCLUDE:\\nProvide daily data management support for research and public health activities at the Dengue Branch.\\nDevelop and maintain data programs to analyze raw data from laboratory tests and surveillance systems using statistical software.\\nDevelop and maintain databases to store relevant data, production of real-time data reports on test progress, and production of summary reports and higher-level analysis.\\nPerform data management ensuring accuracy when developing data collection procedures.\\nPrepare routine reports on epidemiological and surveillance studies and projects.\\nAssist and help train researchers with statistical software use. The incumbent may use GIS software, such as ArcGIS, in various applications. These software tools are typically sufficient to produce appropriate statistical graphics, but post-processing in other software, such as Microsoft Word, Microsoft PowerPoint, or Adobe Acrobat, may be expected.\\nProvide detailed written reports of data management and analyses conducted to DVBD researchers and DVBD senior statisticians. Such reports will provide the basis for analysis components of presentations and manuscripts for publication.\\nREQUIRED DEGREE/EDUCATION/CERTIFICATION:\\nBachelor's in relevant field.\\nREQUIRED SKILLS AND EXPERIENCE:\\nMust be proficient at Microsoft Excel\\nDESIRED SKILLS AND EXPERIENCE:\\nExperience with data management of epidemiological research is preferred.\\nREQUIRED CITIZENSHIP/CLEARANCE:\\nMust be able to pass a Federal background check\\nThe Alaka`ina Foundation Family of Companies (FOCs) is comprised of industry-recognized government service firms who are designated as Native Hawaiian Organization (NHO)-Owned and fall into the respective categories of standard Small Business, 8(a) certified Small Disadvantaged Business (SDB), and HUBZone. The FOCs includes Ke`aki Technologies, Laulima Government Solutions, Kūpono Government Services, Kāpili Services, and Po`okela Solutions. Alaka`ina Foundation activities under the 501(c)3 principally benefit the youth of Hawaii through charitable efforts which includes providing innovative educational programs that combine leadership, science & technology, and environmental stewardship.\\nFor additional information please visit www.alakainafoundation.com.\\nWe are an Equal Opportunity/Affirmative Action Employer of individuals with disabilities and veterans. We are proud to state that we do not discriminate in employment decisions on the basis of race, color, religion, sex, pregnancy, sexual orientation, gender identity, national origin, age, protected veteran status, or disability status. If you are a person with a disability and you need an accommodation during the application process, please click here to request accommodation. We E-Verify all employees.\\n#LI-JS1\""
      ]
     },
     "execution_count": 88,
     "metadata": {},
     "output_type": "execute_result"
    }
   ],
   "source": [
    "browser.find_element(By.ID, 'jobDescriptionText').text "
   ]
  },
  {
   "cell_type": "code",
   "execution_count": 89,
   "metadata": {},
   "outputs": [],
   "source": [
    "try:\n",
    "    next_button = browser.find_element(By.XPATH, '//a[@aria-label=\"Next Page\"]')\n",
    "    next_button.click()\n",
    "except Exception:\n",
    "    print(\"done\")"
   ]
  },
  {
   "cell_type": "code",
   "execution_count": 94,
   "metadata": {},
   "outputs": [
    {
     "ename": "TypeError",
     "evalue": "presence_of_all_elements_located() takes 1 positional argument but 2 were given",
     "output_type": "error",
     "traceback": [
      "\u001b[1;31m---------------------------------------------------------------------------\u001b[0m",
      "\u001b[1;31mTypeError\u001b[0m                                 Traceback (most recent call last)",
      "\u001b[1;32mc:\\Users\\Sysme Hue\\Desktop\\Indeed_crawler\\course_craw.ipynb Cell 13\u001b[0m line \u001b[0;36m1\n\u001b[0;32m     <a href='vscode-notebook-cell:/c%3A/Users/Sysme%20Hue/Desktop/Indeed_crawler/course_craw.ipynb#X55sZmlsZQ%3D%3D?line=9'>10</a>\u001b[0m \u001b[39mfor\u001b[39;00m i,card \u001b[39min\u001b[39;00m \u001b[39menumerate\u001b[39m(cards):\n\u001b[0;32m     <a href='vscode-notebook-cell:/c%3A/Users/Sysme%20Hue/Desktop/Indeed_crawler/course_craw.ipynb#X55sZmlsZQ%3D%3D?line=10'>11</a>\u001b[0m     cards[i]\u001b[39m.\u001b[39mclick()\n\u001b[1;32m---> <a href='vscode-notebook-cell:/c%3A/Users/Sysme%20Hue/Desktop/Indeed_crawler/course_craw.ipynb#X55sZmlsZQ%3D%3D?line=11'>12</a>\u001b[0m     title \u001b[39m=\u001b[39m wait\u001b[39m.\u001b[39muntil(EC\u001b[39m.\u001b[39;49mpresence_of_all_elements_located(By\u001b[39m.\u001b[39;49mCLASS_NAME, \u001b[39m'\u001b[39;49m\u001b[39mjobsearch-JobInfoHeader-title-container\u001b[39;49m\u001b[39m'\u001b[39;49m))\n\u001b[0;32m     <a href='vscode-notebook-cell:/c%3A/Users/Sysme%20Hue/Desktop/Indeed_crawler/course_craw.ipynb#X55sZmlsZQ%3D%3D?line=12'>13</a>\u001b[0m     sleep(random\u001b[39m.\u001b[39mrandint(\u001b[39m1\u001b[39m,\u001b[39m3\u001b[39m))\n\u001b[0;32m     <a href='vscode-notebook-cell:/c%3A/Users/Sysme%20Hue/Desktop/Indeed_crawler/course_craw.ipynb#X55sZmlsZQ%3D%3D?line=14'>15</a>\u001b[0m \u001b[39mtry\u001b[39;00m:\n",
      "\u001b[1;31mTypeError\u001b[0m: presence_of_all_elements_located() takes 1 positional argument but 2 were given"
     ]
    }
   ],
   "source": [
    "from selenium.webdriver.support.ui import WebDriverWait\n",
    "from selenium.webdriver.support import expected_conditions as EC\n",
    "from time import sleep\n",
    "wait = WebDriverWait(browser, 10)  \n",
    "\n",
    "while True:\n",
    "    cards = browser.find_elements(By.CLASS_NAME, 'job_seen_beacon')\n",
    "    date = browser.find_elements(By.CLASS_NAME, 'date')\n",
    "\n",
    "    for i,card in enumerate(cards):\n",
    "        cards[i].click()\n",
    "        title = wait.until(EC.presence_of_all_elements_located(By.CLASS_NAME, 'jobsearch-JobInfoHeader-title-container'))\n",
    "        sleep(random.randint(1,3))\n",
    "\n",
    "    try:\n",
    "        next_button = browser.find_element(By.XPATH, '//a[@aria-label=\"Next Page\"]')\n",
    "        next_button.click()\n",
    "    except Exception:\n",
    "        print(\"done\")\n",
    "        break\n",
    "    "
   ]
  },
  {
   "cell_type": "code",
   "execution_count": 12,
   "metadata": {},
   "outputs": [
    {
     "data": {
      "text/html": [
       "<div>\n",
       "<style scoped>\n",
       "    .dataframe tbody tr th:only-of-type {\n",
       "        vertical-align: middle;\n",
       "    }\n",
       "\n",
       "    .dataframe tbody tr th {\n",
       "        vertical-align: top;\n",
       "    }\n",
       "\n",
       "    .dataframe thead th {\n",
       "        text-align: right;\n",
       "    }\n",
       "</style>\n",
       "<table border=\"1\" class=\"dataframe\">\n",
       "  <thead>\n",
       "    <tr style=\"text-align: right;\">\n",
       "      <th></th>\n",
       "      <th>title</th>\n",
       "      <th>date</th>\n",
       "      <th>company</th>\n",
       "      <th>location</th>\n",
       "    </tr>\n",
       "  </thead>\n",
       "  <tbody>\n",
       "  </tbody>\n",
       "</table>\n",
       "</div>"
      ],
      "text/plain": [
       "Empty DataFrame\n",
       "Columns: [title, date, company, location]\n",
       "Index: []"
      ]
     },
     "execution_count": 12,
     "metadata": {},
     "output_type": "execute_result"
    }
   ],
   "source": [
    "import pandas as pd\n",
    "columns = [\"title\", \"date\", \"company\", \"location\"]\n",
    "df = pd.DataFrame(columns=columns)\n",
    "\n",
    "df"
   ]
  },
  {
   "cell_type": "code",
   "execution_count": 3,
   "metadata": {},
   "outputs": [
    {
     "data": {
      "text/plain": [
       "[1, 'đs', 'ád']"
      ]
     },
     "execution_count": 3,
     "metadata": {},
     "output_type": "execute_result"
    }
   ],
   "source": [
    "h =1\n",
    "f = \"đs\"\n",
    "d = \"ád\"\n",
    "a = [h,f,d]\n",
    "a"
   ]
  },
  {
   "cell_type": "code",
   "execution_count": 9,
   "metadata": {},
   "outputs": [
    {
     "name": "stderr",
     "output_type": "stream",
     "text": [
      "C:\\Users\\Sysme Hue\\AppData\\Local\\Temp\\ipykernel_19856\\2996905994.py:1: SettingWithCopyWarning: \n",
      "A value is trying to be set on a copy of a slice from a DataFrame\n",
      "\n",
      "See the caveats in the documentation: https://pandas.pydata.org/pandas-docs/stable/user_guide/indexing.html#returning-a-view-versus-a-copy\n",
      "  df[\"title\"][len(df)]= 1\n"
     ]
    }
   ],
   "source": [
    "df[\"title\"][len(df)]= 1"
   ]
  },
  {
   "cell_type": "code",
   "execution_count": 10,
   "metadata": {},
   "outputs": [
    {
     "data": {
      "text/html": [
       "<div>\n",
       "<style scoped>\n",
       "    .dataframe tbody tr th:only-of-type {\n",
       "        vertical-align: middle;\n",
       "    }\n",
       "\n",
       "    .dataframe tbody tr th {\n",
       "        vertical-align: top;\n",
       "    }\n",
       "\n",
       "    .dataframe thead th {\n",
       "        text-align: right;\n",
       "    }\n",
       "</style>\n",
       "<table border=\"1\" class=\"dataframe\">\n",
       "  <thead>\n",
       "    <tr style=\"text-align: right;\">\n",
       "      <th></th>\n",
       "      <th>title</th>\n",
       "      <th>date</th>\n",
       "      <th>company</th>\n",
       "      <th>location</th>\n",
       "    </tr>\n",
       "  </thead>\n",
       "  <tbody>\n",
       "  </tbody>\n",
       "</table>\n",
       "</div>"
      ],
      "text/plain": [
       "Empty DataFrame\n",
       "Columns: [title, date, company, location]\n",
       "Index: []"
      ]
     },
     "execution_count": 10,
     "metadata": {},
     "output_type": "execute_result"
    }
   ],
   "source": [
    "df"
   ]
  },
  {
   "cell_type": "code",
   "execution_count": null,
   "metadata": {},
   "outputs": [],
   "source": []
  }
 ],
 "metadata": {
  "kernelspec": {
   "display_name": "Python 3",
   "language": "python",
   "name": "python3"
  },
  "language_info": {
   "codemirror_mode": {
    "name": "ipython",
    "version": 3
   },
   "file_extension": ".py",
   "mimetype": "text/x-python",
   "name": "python",
   "nbconvert_exporter": "python",
   "pygments_lexer": "ipython3",
   "version": "3.10.7"
  },
  "orig_nbformat": 4
 },
 "nbformat": 4,
 "nbformat_minor": 2
}
