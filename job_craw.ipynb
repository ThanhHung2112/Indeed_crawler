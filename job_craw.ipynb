{
 "cells": [
  {
   "cell_type": "code",
   "execution_count": 1,
   "metadata": {},
   "outputs": [],
   "source": [
    "from selenium.webdriver.common.by import By\n",
    "from selenium.webdriver import ChromeOptions, Chrome\n",
    "from selenium.webdriver.chrome.service import Service\n",
    "import pandas as pd\n",
    "import re\n",
    "from time import sleep\n",
    "import random"
   ]
  },
  {
   "cell_type": "code",
   "execution_count": 3,
   "metadata": {},
   "outputs": [
    {
     "name": "stdout",
     "output_type": "stream",
     "text": [
      "ChromeDriver 119.0.6045.105 (38c72552c5e15ba9b3117c0967a0fd105072d7c6-refs/branch-heads/6045@{#1103})\n"
     ]
    }
   ],
   "source": [
    "!chromedriver --version\n"
   ]
  },
  {
   "cell_type": "code",
   "execution_count": 4,
   "metadata": {},
   "outputs": [],
   "source": [
    "from selenium.webdriver.common.action_chains import ActionChains\n",
    "import numpy as np"
   ]
  },
  {
   "cell_type": "code",
   "execution_count": 2,
   "metadata": {},
   "outputs": [],
   "source": [
    "# Options\n",
    "\n",
    "service = Service(executable_path='chromedriver.exe')\n",
    "options = ChromeOptions()\n",
    "options.add_experimental_option(\"detach\", True)\n",
    "options.add_argument(\"--disable-extensions\")\n",
    "# options.add_argument(\"--headless\")\n",
    "options.add_argument(\"--incognito\")\n",
    "options.add_argument(\"--window-size=1920x1080\")\n",
    "\n",
    "try:\n",
    "    browser = Chrome(service=service, options=options)\n",
    "except Exception as e:\n",
    "    print(f\"An error occurred: {e}\")\n"
   ]
  },
  {
   "cell_type": "code",
   "execution_count": 3,
   "metadata": {},
   "outputs": [],
   "source": [
    "job_title = \"data\"\n",
    "job_location = \"hue\"\n",
    "browser.get(\"https://jobs.vn.indeed.com/jobs?q={}&l={}\".format(job_title, job_location))\n",
    "# https://www.indeed.com/jobs?q={}&l={}\n",
    "# "
   ]
  },
  {
   "cell_type": "code",
   "execution_count": 4,
   "metadata": {},
   "outputs": [],
   "source": [
    "card = browser.find_elements(By.CLASS_NAME, 'job_seen_beacon')\n",
    "date = browser.find_elements(By.CLASS_NAME, 'date')\n",
    "# https://googlechromelabs.github.io/chrome-for-testing/"
   ]
  },
  {
   "cell_type": "code",
   "execution_count": 5,
   "metadata": {},
   "outputs": [
    {
     "name": "stdout",
     "output_type": "stream",
     "text": [
      "3\n"
     ]
    }
   ],
   "source": [
    "card[0].click()\n",
    "date[0].text\n",
    "print(len(card))"
   ]
  },
  {
   "cell_type": "code",
   "execution_count": 6,
   "metadata": {},
   "outputs": [
    {
     "data": {
      "text/plain": [
       "'Chuyên Viên Kinh Doanh Tạo Nguồn Tại Huế\\n- job post'"
      ]
     },
     "execution_count": 6,
     "metadata": {},
     "output_type": "execute_result"
    }
   ],
   "source": [
    "browser.find_element(By.CLASS_NAME, 'jobsearch-JobInfoHeader-title-container').text"
   ]
  },
  {
   "cell_type": "code",
   "execution_count": 7,
   "metadata": {},
   "outputs": [
    {
     "name": "stdout",
     "output_type": "stream",
     "text": [
      "Công Ty Cổ Phần Dịch Vụ Xuất Khẩu Lao Động Và Chuyên Gia https://jobs.vn.indeed.com/cmp/C%C3%B4ng-Ty-C%E1%BB%95-Ph%E1%BA%A7n-D%E1%BB%8Bch-V%E1%BB%A5-Xu%E1%BA%A5t-Kh%E1%BA%A9u-Lao-%C4%90%E1%BB%99ng-V%C3%A0-Chuy%C3%AAn-Gia?campaignid=mobvjcmp&from=mobviewjob&tk=1hfs6dh1pk3su800&fromjk=f25b8d6cd88798af\n"
     ]
    }
   ],
   "source": [
    "company = browser.find_element(By.CLASS_NAME, 'css-1cjkto6') \n",
    "\n",
    "company_link = company.find_element(By.TAG_NAME, 'a').get_attribute('href')  # Lấy đường dẫn (link) từ thẻ <a>\n",
    "print(company.text, company_link)\n"
   ]
  },
  {
   "cell_type": "code",
   "execution_count": 9,
   "metadata": {},
   "outputs": [
    {
     "name": "stdout",
     "output_type": "stream",
     "text": [
      "Huế\n"
     ]
    }
   ],
   "source": [
    "try:\n",
    "    location = browser.find_element(By.CLASS_NAME, 'css-ks9svk').text\n",
    "except:\n",
    "    try:\n",
    "        location = browser.find_element(By.CLASS_NAME, 'css-9yl11a').text #if self.browser.find_element(By.CLASS_NAME, 'css-9yl11a') is not None else None\n",
    "    except:\n",
    "        try:\n",
    "            location = browser.find_element(By.CLASS_NAME, 'css-6z8o9s').text\n",
    "        except: location = None\n",
    "print (location)"
   ]
  },
  {
   "cell_type": "code",
   "execution_count": 87,
   "metadata": {},
   "outputs": [],
   "source": [
    "try:\n",
    "    type = browser.find_element(By.CLASS_NAME, 'css-k5flys').text \n",
    "except:\n",
    "    type = None"
   ]
  },
  {
   "cell_type": "code",
   "execution_count": 15,
   "metadata": {},
   "outputs": [
    {
     "data": {
      "text/plain": [
       "'Full-time\\nThis position is well suited for a career oriented individual who is smart and displays a high work ethic. We are looking for the right person to become a valuable asset to our company.\\nJob Description:\\nData entry and data verification into software systems\\nPreparing batches of work by validating commissions are received in a timely manner from vendors on a month to month basis\\nInputting data into the system while following standard operating procedures\\nMaintaining productivity and quality standards\\nContributing to meeting team goals in addition to individual responsibilities\\nWorking in all areas/departments of production as needed\\nMaking judgment calls regarding routine duties but refer non-routine situations to a supervisor and/or manager\\nCommunicating with outside vendors in order to provide the required information to upload customer profiles to our internal portal\\nRequirements:\\nHIGH ATTENTION TO DETAIL AND ACCURACY IS A MUST\\nExcellent at time management and multi-tasking with focus around meeting deadlines\\nGood oral and written communication skills\\nProficient in Excel is a must\\nMust be a team player and maintain a positive attitude at all times\\nEffectively interact with all diverse groups within the organization\\nProven experience coordinating multiple assignments and completing assigned tasks accurately and on a timely basis. Expected to cite examples of organization skills and methods used to manage or prioritize workload demands.\\nWe are looking to hire immediately. Please submit your resume. Cover letter is optional. We look forward to hearing from you.'"
      ]
     },
     "execution_count": 15,
     "metadata": {},
     "output_type": "execute_result"
    }
   ],
   "source": [
    "browser.find_element(By.ID, 'jobDescriptionText').text"
   ]
  },
  {
   "cell_type": "code",
   "execution_count": 89,
   "metadata": {},
   "outputs": [],
   "source": [
    "try:\n",
    "    next_button = browser.find_element(By.XPATH, '//a[@aria-label=\"Next Page\"]')\n",
    "    next_button.click()\n",
    "except Exception:\n",
    "    print(\"done\")"
   ]
  },
  {
   "cell_type": "code",
   "execution_count": 94,
   "metadata": {},
   "outputs": [
    {
     "ename": "TypeError",
     "evalue": "presence_of_all_elements_located() takes 1 positional argument but 2 were given",
     "output_type": "error",
     "traceback": [
      "\u001b[1;31m---------------------------------------------------------------------------\u001b[0m",
      "\u001b[1;31mTypeError\u001b[0m                                 Traceback (most recent call last)",
      "\u001b[1;32mc:\\Users\\Sysme Hue\\Desktop\\Indeed_crawler\\course_craw.ipynb Cell 13\u001b[0m line \u001b[0;36m1\n\u001b[0;32m     <a href='vscode-notebook-cell:/c%3A/Users/Sysme%20Hue/Desktop/Indeed_crawler/course_craw.ipynb#X55sZmlsZQ%3D%3D?line=9'>10</a>\u001b[0m \u001b[39mfor\u001b[39;00m i,card \u001b[39min\u001b[39;00m \u001b[39menumerate\u001b[39m(cards):\n\u001b[0;32m     <a href='vscode-notebook-cell:/c%3A/Users/Sysme%20Hue/Desktop/Indeed_crawler/course_craw.ipynb#X55sZmlsZQ%3D%3D?line=10'>11</a>\u001b[0m     cards[i]\u001b[39m.\u001b[39mclick()\n\u001b[1;32m---> <a href='vscode-notebook-cell:/c%3A/Users/Sysme%20Hue/Desktop/Indeed_crawler/course_craw.ipynb#X55sZmlsZQ%3D%3D?line=11'>12</a>\u001b[0m     title \u001b[39m=\u001b[39m wait\u001b[39m.\u001b[39muntil(EC\u001b[39m.\u001b[39;49mpresence_of_all_elements_located(By\u001b[39m.\u001b[39;49mCLASS_NAME, \u001b[39m'\u001b[39;49m\u001b[39mjobsearch-JobInfoHeader-title-container\u001b[39;49m\u001b[39m'\u001b[39;49m))\n\u001b[0;32m     <a href='vscode-notebook-cell:/c%3A/Users/Sysme%20Hue/Desktop/Indeed_crawler/course_craw.ipynb#X55sZmlsZQ%3D%3D?line=12'>13</a>\u001b[0m     sleep(random\u001b[39m.\u001b[39mrandint(\u001b[39m1\u001b[39m,\u001b[39m3\u001b[39m))\n\u001b[0;32m     <a href='vscode-notebook-cell:/c%3A/Users/Sysme%20Hue/Desktop/Indeed_crawler/course_craw.ipynb#X55sZmlsZQ%3D%3D?line=14'>15</a>\u001b[0m \u001b[39mtry\u001b[39;00m:\n",
      "\u001b[1;31mTypeError\u001b[0m: presence_of_all_elements_located() takes 1 positional argument but 2 were given"
     ]
    }
   ],
   "source": [
    "from selenium.webdriver.support.ui import WebDriverWait\n",
    "from selenium.webdriver.support import expected_conditions as EC\n",
    "from time import sleep\n",
    "wait = WebDriverWait(browser, 10)  \n",
    "\n",
    "while True:\n",
    "    cards = browser.find_elements(By.CLASS_NAME, 'job_seen_beacon')\n",
    "    date = browser.find_elements(By.CLASS_NAME, 'date')\n",
    "\n",
    "    for i,card in enumerate(cards):\n",
    "        cards[i].click()\n",
    "        title = wait.until(EC.presence_of_all_elements_located(By.CLASS_NAME, 'jobsearch-JobInfoHeader-title-container'))\n",
    "        sleep(random.randint(1,3))\n",
    "\n",
    "    try:\n",
    "        next_button = browser.find_element(By.XPATH, '//a[@aria-label=\"Next Page\"]')\n",
    "        next_button.click()\n",
    "    except Exception:\n",
    "        print(\"done\")\n",
    "        break\n",
    "    "
   ]
  },
  {
   "cell_type": "code",
   "execution_count": 12,
   "metadata": {},
   "outputs": [
    {
     "data": {
      "text/html": [
       "<div>\n",
       "<style scoped>\n",
       "    .dataframe tbody tr th:only-of-type {\n",
       "        vertical-align: middle;\n",
       "    }\n",
       "\n",
       "    .dataframe tbody tr th {\n",
       "        vertical-align: top;\n",
       "    }\n",
       "\n",
       "    .dataframe thead th {\n",
       "        text-align: right;\n",
       "    }\n",
       "</style>\n",
       "<table border=\"1\" class=\"dataframe\">\n",
       "  <thead>\n",
       "    <tr style=\"text-align: right;\">\n",
       "      <th></th>\n",
       "      <th>title</th>\n",
       "      <th>date</th>\n",
       "      <th>company</th>\n",
       "      <th>location</th>\n",
       "    </tr>\n",
       "  </thead>\n",
       "  <tbody>\n",
       "  </tbody>\n",
       "</table>\n",
       "</div>"
      ],
      "text/plain": [
       "Empty DataFrame\n",
       "Columns: [title, date, company, location]\n",
       "Index: []"
      ]
     },
     "execution_count": 12,
     "metadata": {},
     "output_type": "execute_result"
    }
   ],
   "source": [
    "import pandas as pd\n",
    "columns = [\"title\", \"date\", \"company\", \"location\"]\n",
    "df = pd.DataFrame(columns=columns)\n",
    "\n",
    "df"
   ]
  },
  {
   "cell_type": "code",
   "execution_count": 3,
   "metadata": {},
   "outputs": [
    {
     "data": {
      "text/plain": [
       "[1, 'đs', 'ád']"
      ]
     },
     "execution_count": 3,
     "metadata": {},
     "output_type": "execute_result"
    }
   ],
   "source": [
    "h =1\n",
    "f = \"đs\"\n",
    "d = \"ád\"\n",
    "a = [h,f,d]\n",
    "a"
   ]
  },
  {
   "cell_type": "code",
   "execution_count": 9,
   "metadata": {},
   "outputs": [
    {
     "name": "stderr",
     "output_type": "stream",
     "text": [
      "C:\\Users\\Sysme Hue\\AppData\\Local\\Temp\\ipykernel_19856\\2996905994.py:1: SettingWithCopyWarning: \n",
      "A value is trying to be set on a copy of a slice from a DataFrame\n",
      "\n",
      "See the caveats in the documentation: https://pandas.pydata.org/pandas-docs/stable/user_guide/indexing.html#returning-a-view-versus-a-copy\n",
      "  df[\"title\"][len(df)]= 1\n"
     ]
    }
   ],
   "source": [
    "df[\"title\"][len(df)]= 1"
   ]
  },
  {
   "cell_type": "code",
   "execution_count": 10,
   "metadata": {},
   "outputs": [
    {
     "data": {
      "text/html": [
       "<div>\n",
       "<style scoped>\n",
       "    .dataframe tbody tr th:only-of-type {\n",
       "        vertical-align: middle;\n",
       "    }\n",
       "\n",
       "    .dataframe tbody tr th {\n",
       "        vertical-align: top;\n",
       "    }\n",
       "\n",
       "    .dataframe thead th {\n",
       "        text-align: right;\n",
       "    }\n",
       "</style>\n",
       "<table border=\"1\" class=\"dataframe\">\n",
       "  <thead>\n",
       "    <tr style=\"text-align: right;\">\n",
       "      <th></th>\n",
       "      <th>title</th>\n",
       "      <th>date</th>\n",
       "      <th>company</th>\n",
       "      <th>location</th>\n",
       "    </tr>\n",
       "  </thead>\n",
       "  <tbody>\n",
       "  </tbody>\n",
       "</table>\n",
       "</div>"
      ],
      "text/plain": [
       "Empty DataFrame\n",
       "Columns: [title, date, company, location]\n",
       "Index: []"
      ]
     },
     "execution_count": 10,
     "metadata": {},
     "output_type": "execute_result"
    }
   ],
   "source": [
    "df"
   ]
  },
  {
   "cell_type": "code",
   "execution_count": null,
   "metadata": {},
   "outputs": [],
   "source": []
  }
 ],
 "metadata": {
  "kernelspec": {
   "display_name": "Python 3",
   "language": "python",
   "name": "python3"
  },
  "language_info": {
   "codemirror_mode": {
    "name": "ipython",
    "version": 3
   },
   "file_extension": ".py",
   "mimetype": "text/x-python",
   "name": "python",
   "nbconvert_exporter": "python",
   "pygments_lexer": "ipython3",
   "version": "3.10.7"
  },
  "orig_nbformat": 4
 },
 "nbformat": 4,
 "nbformat_minor": 2
}
